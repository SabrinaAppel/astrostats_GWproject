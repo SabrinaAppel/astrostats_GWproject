{
 "cells": [
  {
   "cell_type": "code",
   "execution_count": 1,
   "metadata": {},
   "outputs": [],
   "source": [
    "import numpy as np\n",
    "import pandas as pd\n",
    "import matplotlib.pyplot as plt\n",
    "%matplotlib inline\n",
    "%config InlineBackend.figure_format = 'retina'"
   ]
  },
  {
   "cell_type": "markdown",
   "metadata": {},
   "source": [
    "## Mass Plots"
   ]
  },
  {
   "cell_type": "code",
   "execution_count": 2,
   "metadata": {},
   "outputs": [],
   "source": [
    "char_csv = './GW_table.csv' #'https://raw.githubusercontent.com/charlotteolsen/astrostats_GWproject/master/GW_table%20.csv?token=AHEQX66DQQ6LIVKSPRLCFES5Z3S6W'\n",
    "csv_test = pd.read_csv(char_csv)"
   ]
  },
  {
   "cell_type": "code",
   "execution_count": 3,
   "metadata": {},
   "outputs": [
    {
     "data": {
      "text/plain": [
       "Index(['Event', 'Primary mass (M_sun)', 'Secondary mass (M_sun)',\n",
       "       'Effective inspiral spin', 'chirp mass (M_sun)', 'Final spin',\n",
       "       'Final mass (M_sun)', 'Luminosity distance (Mpc)'],\n",
       "      dtype='object')"
      ]
     },
     "execution_count": 3,
     "metadata": {},
     "output_type": "execute_result"
    }
   ],
   "source": [
    "csv_test.columns"
   ]
  },
  {
   "cell_type": "code",
   "execution_count": 5,
   "metadata": {},
   "outputs": [
    {
     "name": "stdout",
     "output_type": "stream",
     "text": [
      "['35.6 +4.8-3.0' '23.3 +14.0-5.5' '13.7 +8.8-3.2' '31.0 +7.2-5.6'\n",
      " '10.9 +5.3-1.7' '50.6 +16.6-10.2' '35.2 +8.3-6.0' '30.7 +5.7-3.0'\n",
      " '1.46 +0.12-0.10' '35.5 +7.5-4.7' '39.6 +10.0-6.6']\n"
     ]
    }
   ],
   "source": [
    "pm = csv_test['Primary mass (M_sun)']\n",
    "sm = csv_test['Secondary mass (M_sun)']\n",
    "cm = csv_test['chirp mass (M_sun)']\n",
    "fm = csv_test['Final mass (M_sun)']\n",
    "events = csv_test['Event']\n",
    "\n",
    "print(pm.values)\n",
    "#print(sm)\n",
    "#print(events)"
   ]
  },
  {
   "cell_type": "code",
   "execution_count": 6,
   "metadata": {},
   "outputs": [
    {
     "name": "stdout",
     "output_type": "stream",
     "text": [
      "35.6 +4.8-3.0\n",
      "23.3 +14.0-5.5\n",
      "13.7 +8.8-3.2\n",
      "31.0 +7.2-5.6\n",
      "10.9 +5.3-1.7\n",
      "50.6 +16.6-10.2\n",
      "35.2 +8.3-6.0\n",
      "30.7 +5.7-3.0\n",
      "1.46 +0.12-0.10\n",
      "35.5 +7.5-4.7\n",
      "39.6 +10.0-6.6\n",
      "[35.6, 23.3, 13.7, 31.0, 10.9, 50.6, 35.2, 30.7, 1.46, 35.5, 39.6]\n",
      "[4.8, 14.0, 8.8, 7.2, 5.3, 16.6, 8.3, 5.7, 0.12, 7.5, 10.0]\n",
      "[3.0, 5.5, 3.2, 5.6, 1.7, 10.2, 6.0, 3.0, 0.1, 4.7, 6.6]\n"
     ]
    }
   ],
   "source": [
    "p_mass = []\n",
    "p_uperr = []\n",
    "p_dnerr = []\n",
    "for i in range(len(pm.values)):\n",
    "    mass = np.float(pm.values[i].split('+')[0])  #np.float(pm.values[i][0:4])\n",
    "    p_mass.append(mass)\n",
    "    errors = pm.values[i].split('+')[1]\n",
    "    errors = errors.split('-')\n",
    "    errup = np.float(errors[0])\n",
    "    p_uperr.append(errup)\n",
    "    errdown = np.float(errors[1])\n",
    "    p_dnerr.append(errdown)\n",
    "    print(pm.values[i])\n",
    "    \n",
    "    \n",
    "####  How to do the error bars!!!!!!!!  YAY!!!\n",
    "#mass = pm.values[5].split('+')[0]\n",
    "#errors = pm.values[5].split('+')[1]\n",
    "#errors = errors.split('-')\n",
    "#print(mass, errors)\n",
    "    \n",
    "print(p_mass)\n",
    "print(p_uperr)\n",
    "print(p_dnerr)"
   ]
  },
  {
   "cell_type": "code",
   "execution_count": 7,
   "metadata": {},
   "outputs": [
    {
     "name": "stdout",
     "output_type": "stream",
     "text": [
      "30.6 +3.0-4.4\n",
      "13.6 +4.1-4.8\n",
      "7.7 +2.2-2.6\n",
      "20.1 +4.9-4.5\n",
      "7.6 +1.3-2.1\n",
      "34.3 +9.1-10.1\n",
      "23.8 +5.2-5.1\n",
      "25.3 +2.9-4.1\n",
      "1.27 +0.09-0.09\n",
      "26.8 +4.3-5.2\n",
      "29.4 +6.3-7.1\n",
      "[30.6, 13.6, 7.7, 20.1, 7.6, 34.3, 23.8, 25.3, 1.27, 26.8, 29.4]\n",
      "[3.0, 4.1, 2.2, 4.9, 1.3, 9.1, 5.2, 2.9, 0.09, 4.3, 6.3]\n",
      "[4.4, 4.8, 2.6, 4.5, 2.1, 10.1, 5.1, 4.1, 0.09, 5.2, 7.1]\n"
     ]
    }
   ],
   "source": [
    "s_mass = []\n",
    "s_uperr = []\n",
    "s_dnerr = []\n",
    "for i in range(len(sm.values)):\n",
    "    mass = np.float(sm.values[i].split('+')[0])  \n",
    "    s_mass.append(mass)\n",
    "    errors = sm.values[i].split('+')[1]\n",
    "    errors = errors.split('-')\n",
    "    errup = np.float(errors[0])\n",
    "    s_uperr.append(errup)\n",
    "    errdown = np.float(errors[1])\n",
    "    s_dnerr.append(errdown)\n",
    "    print(sm.values[i])\n",
    "    \n",
    "print(s_mass)\n",
    "print(s_uperr)\n",
    "print(s_dnerr)"
   ]
  },
  {
   "cell_type": "code",
   "execution_count": 8,
   "metadata": {},
   "outputs": [
    {
     "name": "stdout",
     "output_type": "stream",
     "text": [
      "28.6 +1.6-1.5\n",
      "15.2 +2.0-1.1\n",
      "8.9 +0.3-0.3\n",
      "21.5 +2.1-1.7\n",
      "7.9 +0.2-0.2\n",
      "35.7 +6.5-4.7\n",
      "25.0 +2.1-1.6\n",
      "24.2 +1.4-1.1\n",
      "1.186 +0.001-0.001\n",
      "26.7 +2.1-1.7\n",
      "29.3 +4.2-3.2\n",
      "[28.6, 15.2, 8.9, 21.5, 7.9, 35.7, 25.0, 24.2, 1.186, 26.7, 29.3]\n",
      "[1.6, 2.0, 0.3, 2.1, 0.2, 6.5, 2.1, 1.4, 0.001, 2.1, 4.2]\n",
      "[1.5, 1.1, 0.3, 1.7, 0.2, 4.7, 1.6, 1.1, 0.001, 1.7, 3.2]\n"
     ]
    }
   ],
   "source": [
    "c_mass = []\n",
    "c_uperr = []\n",
    "c_dnerr = []\n",
    "for i in range(len(cm.values)):\n",
    "    mass = np.float(cm.values[i].split('+')[0])  \n",
    "    c_mass.append(mass)\n",
    "    errors = cm.values[i].split('+')[1]\n",
    "    errors = errors.split('-')\n",
    "    errup = np.float(errors[0])\n",
    "    c_uperr.append(errup)\n",
    "    errdown = np.float(errors[1])\n",
    "    c_dnerr.append(errdown)\n",
    "    print(cm.values[i])\n",
    "    \n",
    "print(c_mass)\n",
    "print(c_uperr)\n",
    "print(c_dnerr)"
   ]
  },
  {
   "cell_type": "code",
   "execution_count": 9,
   "metadata": {},
   "outputs": [
    {
     "name": "stdout",
     "output_type": "stream",
     "text": [
      "0       63.1 +3.3-3.0\n",
      "1       35.7 +9.9-3.8\n",
      "2       20.5 +6.4-1.5\n",
      "3       49.1 +5.2-3.9\n",
      "4       17.8 +3.2-0.7\n",
      "5     80.3 +14.6-10.2\n",
      "6       56.4 +5.2-3.7\n",
      "7       53.4 +3.2-2.4\n",
      "8                ≤2.8\n",
      "9       59.8 +4.8-3.8\n",
      "10      65.6 +9.4-6.6\n",
      "Name: Final mass (M_sun), dtype: object\n",
      "['63.1 ', '35.7 ', '20.5 ', '49.1 ', '17.8 ', '80.3 ', '56.4 ', '53.4 ', '2.8', '59.8 ', '65.6 ']\n",
      "[3.3, 9.9, 6.4, 5.2, 3.2, 14.6, 5.2, 3.2, 0.0, 4.8, 9.4]\n",
      "[3.0, 3.8, 1.5, 3.9, 0.7, 10.2, 3.7, 2.4, 999.0, 3.8, 6.6]\n"
     ]
    }
   ],
   "source": [
    "f_mass = []\n",
    "f_uperr = []\n",
    "f_dnerr = []\n",
    "print(fm)\n",
    "for i in range(len(fm.values)):\n",
    "    if '≤' not in fm.values[i]:\n",
    "        mass = fm.values[i].split('+')[0]    #np.float(fm.values[i].split('+≤')[0])  \n",
    "        f_mass.append(mass)\n",
    "        errors = fm.values[i].split('+')[1]\n",
    "        errors = errors.split('-')\n",
    "        errup = np.float(errors[0])\n",
    "        f_uperr.append(errup)\n",
    "        errdown = np.float(errors[1])\n",
    "        f_dnerr.append(errdown)\n",
    "    elif '≤' in fm.values[i]:\n",
    "        mass = fm.values[i].strip('≤')\n",
    "        #print('test:', mass)\n",
    "        f_mass.append(mass)\n",
    "        errup = np.float(0)\n",
    "        f_uperr.append(errup)\n",
    "        errdown = np.float(999)  ## Filler value to show that it is unbounded on the lower value....\n",
    "        f_dnerr.append(errdown)\n",
    "\n",
    "    \n",
    "print(f_mass)\n",
    "print(f_uperr)\n",
    "print(f_dnerr)"
   ]
  },
  {
   "cell_type": "code",
   "execution_count": 10,
   "metadata": {},
   "outputs": [
    {
     "name": "stdout",
     "output_type": "stream",
     "text": [
      "GW150914\n",
      "GW151012\n",
      "GW151226\n",
      "GW170104\n",
      "GW170608\n",
      "GW170729\n",
      "GW170809\n",
      "GW170814\n",
      "GW170817\n",
      "GW170818\n",
      "GW170823\n",
      "['GW150914', 'GW151012', 'GW151226', 'GW170104', 'GW170608', 'GW170729', 'GW170809', 'GW170814', 'GW170817', 'GW170818', 'GW170823']\n"
     ]
    }
   ],
   "source": [
    "eventlist = []\n",
    "\n",
    "for i in range(len(events.values)):\n",
    "    ev = events.values[i][0:8]\n",
    "    eventlist.append(ev)\n",
    "    print(events.values[i])\n",
    "    \n",
    "print(eventlist)\n",
    "#"
   ]
  },
  {
   "cell_type": "code",
   "execution_count": 11,
   "metadata": {},
   "outputs": [
    {
     "data": {
      "text/plain": [
       "<matplotlib.legend.Legend at 0x10f1f9810>"
      ]
     },
     "execution_count": 11,
     "metadata": {},
     "output_type": "execute_result"
    },
    {
     "data": {
      "image/png": "[encoded data removed]",
      "text/plain": [
       "<Figure size 720x720 with 1 Axes>"
      ]
     },
     "metadata": {
      "image/png": {
       "height": 603,
       "width": 606
      },
      "needs_background": "light"
     },
     "output_type": "display_data"
    }
   ],
   "source": [
    "fig = plt.figure(figsize = (10,10))\n",
    "plt.scatter(p_mass,s_mass, label = 'Progenitors')\n",
    "plt.xlabel('Primary mass (m_sun)')\n",
    "plt.ylabel('Secondary mass (m_sun)')\n",
    "plt.title('Black Hole Binaries')\n",
    "plt.legend()"
   ]
  },
  {
   "cell_type": "code",
   "execution_count": 12,
   "metadata": {},
   "outputs": [
    {
     "data": {
      "image/png": "[encoded data removed]",
      "text/plain": [
       "<Figure size 576x576 with 1 Axes>"
      ]
     },
     "metadata": {
      "image/png": {
       "height": 509,
       "width": 480
      },
      "needs_background": "light"
     },
     "output_type": "display_data"
    }
   ],
   "source": [
    "p_ave = np.mean(p_mass)\n",
    "s_ave = np.mean(s_mass)\n",
    "c_ave = np.mean(c_mass)\n",
    "\n",
    "fig, ax = plt.subplots(figsize = (8,8))\n",
    "ax.scatter(eventlist,p_mass, label = 'Primary')\n",
    "ax.scatter(eventlist,s_mass, label = 'Secondary')\n",
    "ax.scatter(eventlist,c_mass, label = 'Chirp')\n",
    "\n",
    "ax.axhline(p_ave, color = 'C0')\n",
    "ax.axhline(s_ave, color = 'C1')\n",
    "ax.axhline(c_ave, color = 'C2')\n",
    "\n",
    "ax.legend()\n",
    "plt.setp(ax.get_xticklabels(), rotation=60, ha=\"right\",\n",
    "         rotation_mode=\"anchor\");"
   ]
  },
  {
   "cell_type": "code",
   "execution_count": 13,
   "metadata": {},
   "outputs": [],
   "source": [
    "csv_test = pd.read_json('./marginal.json')"
   ]
  },
  {
   "cell_type": "code",
   "execution_count": 14,
   "metadata": {},
   "outputs": [
    {
     "data": {
      "text/html": [
       "<div>\n",
       "<style scoped>\n",
       "    .dataframe tbody tr th:only-of-type {\n",
       "        vertical-align: middle;\n",
       "    }\n",
       "\n",
       "    .dataframe tbody tr th {\n",
       "        vertical-align: top;\n",
       "    }\n",
       "\n",
       "    .dataframe thead th {\n",
       "        text-align: right;\n",
       "    }\n",
       "</style>\n",
       "<table border=\"1\" class=\"dataframe\">\n",
       "  <thead>\n",
       "    <tr style=\"text-align: right;\">\n",
       "      <th></th>\n",
       "      <th>data</th>\n",
       "      <th>parameters</th>\n",
       "    </tr>\n",
       "  </thead>\n",
       "  <tbody>\n",
       "    <tr>\n",
       "      <th>151008</th>\n",
       "      <td>{'dq': {'best': 'No artifacts'}, 'far': {'best...</td>\n",
       "      <td>NaN</td>\n",
       "    </tr>\n",
       "    <tr>\n",
       "      <th>151012A</th>\n",
       "      <td>{'dq': {'best': 'Artifacts present'}, 'far': {...</td>\n",
       "      <td>NaN</td>\n",
       "    </tr>\n",
       "    <tr>\n",
       "      <th>151116</th>\n",
       "      <td>{'dq': {'best': 'No artifacts'}, 'far': {'best...</td>\n",
       "      <td>NaN</td>\n",
       "    </tr>\n",
       "    <tr>\n",
       "      <th>161202</th>\n",
       "      <td>{'dq': {'best': 'Artifacts can account for'}, ...</td>\n",
       "      <td>NaN</td>\n",
       "    </tr>\n",
       "    <tr>\n",
       "      <th>161217</th>\n",
       "      <td>{'dq': {'best': 'Artifacts can account for'}, ...</td>\n",
       "      <td>NaN</td>\n",
       "    </tr>\n",
       "    <tr>\n",
       "      <th>170208</th>\n",
       "      <td>{'dq': {'best': 'Artifacts present'}, 'far': {...</td>\n",
       "      <td>NaN</td>\n",
       "    </tr>\n",
       "    <tr>\n",
       "      <th>170219</th>\n",
       "      <td>{'dq': {'best': 'No artifacts'}, 'far': {'best...</td>\n",
       "      <td>NaN</td>\n",
       "    </tr>\n",
       "    <tr>\n",
       "      <th>170405</th>\n",
       "      <td>{'dq': {'best': 'Artifacts present'}, 'far': {...</td>\n",
       "      <td>NaN</td>\n",
       "    </tr>\n",
       "    <tr>\n",
       "      <th>170412</th>\n",
       "      <td>{'dq': {'best': 'Artifacts can account for'}, ...</td>\n",
       "      <td>NaN</td>\n",
       "    </tr>\n",
       "    <tr>\n",
       "      <th>170423</th>\n",
       "      <td>{'dq': {'best': 'No artifacts'}, 'far': {'best...</td>\n",
       "      <td>NaN</td>\n",
       "    </tr>\n",
       "    <tr>\n",
       "      <th>170616</th>\n",
       "      <td>{'dq': {'best': 'Artifacts present'}, 'far': {...</td>\n",
       "      <td>NaN</td>\n",
       "    </tr>\n",
       "    <tr>\n",
       "      <th>170630</th>\n",
       "      <td>{'dq': {'best': 'Artifacts present'}, 'far': {...</td>\n",
       "      <td>NaN</td>\n",
       "    </tr>\n",
       "    <tr>\n",
       "      <th>170705</th>\n",
       "      <td>{'dq': {'best': 'No artifacts'}, 'far': {'best...</td>\n",
       "      <td>NaN</td>\n",
       "    </tr>\n",
       "    <tr>\n",
       "      <th>170720</th>\n",
       "      <td>{'dq': {'best': 'Artifacts can account for'}, ...</td>\n",
       "      <td>NaN</td>\n",
       "    </tr>\n",
       "    <tr>\n",
       "      <th>dq</th>\n",
       "      <td>NaN</td>\n",
       "      <td>{'name_en': 'Data Quality', 'priority': 5, 'si...</td>\n",
       "    </tr>\n",
       "    <tr>\n",
       "      <th>far</th>\n",
       "      <td>NaN</td>\n",
       "      <td>{'name_en': 'FAR', 'priority': 2, 'sigfig': 2,...</td>\n",
       "    </tr>\n",
       "    <tr>\n",
       "      <th>mchirp_search</th>\n",
       "      <td>NaN</td>\n",
       "      <td>{'name_en': 'Detector frame chirp mass', 'prio...</td>\n",
       "    </tr>\n",
       "    <tr>\n",
       "      <th>pipeline</th>\n",
       "      <td>NaN</td>\n",
       "      <td>{'name_en': 'Pipeline', 'priority': 2, 'sigfig...</td>\n",
       "    </tr>\n",
       "    <tr>\n",
       "      <th>snr</th>\n",
       "      <td>NaN</td>\n",
       "      <td>{'name_en': 'Network SNR', 'priority': 3, 'sig...</td>\n",
       "    </tr>\n",
       "    <tr>\n",
       "      <th>tc</th>\n",
       "      <td>NaN</td>\n",
       "      <td>{'name_en': 'GPS time (s)', 'priority': 1, 'si...</td>\n",
       "    </tr>\n",
       "    <tr>\n",
       "      <th>utctime</th>\n",
       "      <td>NaN</td>\n",
       "      <td>{'name_en': 'UTCtime', 'priority': 6, 'sigfig'...</td>\n",
       "    </tr>\n",
       "  </tbody>\n",
       "</table>\n",
       "</div>"
      ],
      "text/plain": [
       "                                                            data  \\\n",
       "151008         {'dq': {'best': 'No artifacts'}, 'far': {'best...   \n",
       "151012A        {'dq': {'best': 'Artifacts present'}, 'far': {...   \n",
       "151116         {'dq': {'best': 'No artifacts'}, 'far': {'best...   \n",
       "161202         {'dq': {'best': 'Artifacts can account for'}, ...   \n",
       "161217         {'dq': {'best': 'Artifacts can account for'}, ...   \n",
       "170208         {'dq': {'best': 'Artifacts present'}, 'far': {...   \n",
       "170219         {'dq': {'best': 'No artifacts'}, 'far': {'best...   \n",
       "170405         {'dq': {'best': 'Artifacts present'}, 'far': {...   \n",
       "170412         {'dq': {'best': 'Artifacts can account for'}, ...   \n",
       "170423         {'dq': {'best': 'No artifacts'}, 'far': {'best...   \n",
       "170616         {'dq': {'best': 'Artifacts present'}, 'far': {...   \n",
       "170630         {'dq': {'best': 'Artifacts present'}, 'far': {...   \n",
       "170705         {'dq': {'best': 'No artifacts'}, 'far': {'best...   \n",
       "170720         {'dq': {'best': 'Artifacts can account for'}, ...   \n",
       "dq                                                           NaN   \n",
       "far                                                          NaN   \n",
       "mchirp_search                                                NaN   \n",
       "pipeline                                                     NaN   \n",
       "snr                                                          NaN   \n",
       "tc                                                           NaN   \n",
       "utctime                                                      NaN   \n",
       "\n",
       "                                                      parameters  \n",
       "151008                                                       NaN  \n",
       "151012A                                                      NaN  \n",
       "151116                                                       NaN  \n",
       "161202                                                       NaN  \n",
       "161217                                                       NaN  \n",
       "170208                                                       NaN  \n",
       "170219                                                       NaN  \n",
       "170405                                                       NaN  \n",
       "170412                                                       NaN  \n",
       "170423                                                       NaN  \n",
       "170616                                                       NaN  \n",
       "170630                                                       NaN  \n",
       "170705                                                       NaN  \n",
       "170720                                                       NaN  \n",
       "dq             {'name_en': 'Data Quality', 'priority': 5, 'si...  \n",
       "far            {'name_en': 'FAR', 'priority': 2, 'sigfig': 2,...  \n",
       "mchirp_search  {'name_en': 'Detector frame chirp mass', 'prio...  \n",
       "pipeline       {'name_en': 'Pipeline', 'priority': 2, 'sigfig...  \n",
       "snr            {'name_en': 'Network SNR', 'priority': 3, 'sig...  \n",
       "tc             {'name_en': 'GPS time (s)', 'priority': 1, 'si...  \n",
       "utctime        {'name_en': 'UTCtime', 'priority': 6, 'sigfig'...  "
      ]
     },
     "execution_count": 14,
     "metadata": {},
     "output_type": "execute_result"
    }
   ],
   "source": [
    "csv_test"
   ]
  },
  {
   "cell_type": "code",
   "execution_count": null,
   "metadata": {},
   "outputs": [],
   "source": []
  },
  {
   "cell_type": "code",
   "execution_count": null,
   "metadata": {},
   "outputs": [],
   "source": []
  }
 ],
 "metadata": {
  "kernelspec": {
   "display_name": "Python 3",
   "language": "python",
   "name": "python3"
  },
  "language_info": {
   "codemirror_mode": {
    "name": "ipython",
    "version": 3
   },
   "file_extension": ".py",
   "mimetype": "text/x-python",
   "name": "python",
   "nbconvert_exporter": "python",
   "pygments_lexer": "ipython3",
   "version": "3.7.4"
  }
 },
 "nbformat": 4,
 "nbformat_minor": 4
}
